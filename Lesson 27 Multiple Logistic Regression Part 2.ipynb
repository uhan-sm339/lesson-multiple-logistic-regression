{
 "cells": [
  {
   "cell_type": "markdown",
   "id": "96bfb1d1-1ac7-413f-8c09-f9c85c9595eb",
   "metadata": {
    "editable": true,
    "slideshow": {
     "slide_type": ""
    },
    "tags": []
   },
   "source": [
    "**SM339 &#x25aa; Applied Statistics &#x25aa; Spring 2024 &#x25aa; Uhan**"
   ]
  },
  {
   "cell_type": "markdown",
   "id": "3824b5ba-55ab-454f-878b-47bc8638c469",
   "metadata": {
    "editable": true,
    "slideshow": {
     "slide_type": ""
    },
    "tags": []
   },
   "source": [
    "# Lesson 27. Multiple Logistic Regression &ndash; Part 2 "
   ]
  },
  {
   "cell_type": "markdown",
   "id": "8758189c-5535-4775-aa15-190815fc7c69",
   "metadata": {
    "editable": true,
    "slideshow": {
     "slide_type": ""
    },
    "tags": []
   },
   "source": [
    "## Overview"
   ]
  },
  {
   "cell_type": "markdown",
   "id": "78bc9396-667e-49b9-8d2b-3b20d18da8e5",
   "metadata": {
    "editable": true,
    "slideshow": {
     "slide_type": ""
    },
    "tags": []
   },
   "source": [
    "In this lesson, we will continue to use the `MedGPA` data, which contains information for 55 medical school applicants from a liberal arts college in the Midwest."
   ]
  },
  {
   "cell_type": "code",
   "execution_count": null,
   "id": "64916bed-a2f0-4f6d-adee-6615404ad07e",
   "metadata": {
    "editable": true,
    "slideshow": {
     "slide_type": ""
    },
    "tags": []
   },
   "outputs": [],
   "source": [
    "library(Stat2Data)\n",
    "data(MedGPA)\n",
    "head(MedGPA)"
   ]
  },
  {
   "cell_type": "markdown",
   "id": "77f30a7c-b572-42b0-b3c0-0504d9a21139",
   "metadata": {
    "editable": true,
    "slideshow": {
     "slide_type": ""
    },
    "tags": []
   },
   "source": [
    "We will focus on the following variables:\n",
    "\n",
    "| Variable | Description |\n",
    "| :- | :- | \n",
    "| `GPA` | Applicant's college grade point average |\n",
    "| `MCAT` | Applicant's MCAT (Medical College Admission Test) score |\n",
    "| `Sex` | F for female, M for male |\n",
    "| `Acceptance` | 1 if accepted, 0 if not accepted |\n",
    "\n",
    "Unless otherwise stated, use a significance level of $\\alpha = 0.05$.\n",
    "Throughout this lesson, let $\\pi = P(\\mathit{Acceptance} = 1)$."
   ]
  },
  {
   "cell_type": "markdown",
   "id": "805c4ee4-41fa-450b-9f00-724795f0b6a9",
   "metadata": {
    "editable": true,
    "slideshow": {
     "slide_type": ""
    },
    "tags": []
   },
   "source": [
    "## Example 1\n",
    "\n",
    "__Does probability of acceptance differ by sex?__"
   ]
  },
  {
   "cell_type": "markdown",
   "id": "8c50bdfd-4616-438e-9d68-d1ad1a31fece",
   "metadata": {
    "editable": true,
    "slideshow": {
     "slide_type": ""
    },
    "tags": []
   },
   "source": [
    "### a.\n",
    "\n",
    "Fit a model that uses sex to predict acceptance."
   ]
  },
  {
   "cell_type": "code",
   "execution_count": null,
   "id": "3a1b9f9e-5d7b-4616-ad6d-642ac8945ce0",
   "metadata": {
    "editable": true,
    "slideshow": {
     "slide_type": ""
    },
    "tags": []
   },
   "outputs": [],
   "source": []
  },
  {
   "cell_type": "markdown",
   "id": "204304c8-88a5-432b-bcf0-1fd58efc28bf",
   "metadata": {
    "editable": true,
    "slideshow": {
     "slide_type": ""
    },
    "tags": []
   },
   "source": [
    "* Note that `Sex` is a categorical variable with two \"levels\" (categories) \n",
    "\n",
    "* We can confirm this by using the `level()` function on the `Sex` variable, like this:"
   ]
  },
  {
   "cell_type": "code",
   "execution_count": null,
   "id": "64bc2582-968f-4fdb-96b0-93eae3c01da0",
   "metadata": {
    "editable": true,
    "slideshow": {
     "slide_type": ""
    },
    "tags": []
   },
   "outputs": [],
   "source": [
    "levels(MedGPA$Sex)"
   ]
  },
  {
   "cell_type": "markdown",
   "id": "1e800815-d9d3-4cea-983f-2a65695854b0",
   "metadata": {
    "editable": true,
    "slideshow": {
     "slide_type": ""
    },
    "tags": []
   },
   "source": [
    "* For categorical variables, R uses the first category as the reference category, and automatically creates a binary variable for every other level\n",
    "\n",
    "* In this case, R uses 'F' as the reference category, and defines the variable\n",
    "\n",
    "    $$ \\mathit{SexM} = \\begin{cases}\n",
    "    1 & \\text{if $\\mathit{Sex}$ = M}\\\\\n",
    "    0 & \\text{otherwise}\n",
    "    \\end{cases}$$\n",
    "\n",
    "* You should find that the fitted model is\n",
    "\n",
    "    $$ \\text{logit}(\\hat{\\pi}) = 0.5878 - 0.8109 \\mathit{SexM} $$"
   ]
  },
  {
   "cell_type": "markdown",
   "id": "9cdc7a7e-b8a0-4a19-9c25-43d434b8a517",
   "metadata": {
    "editable": true,
    "slideshow": {
     "slide_type": ""
    },
    "tags": []
   },
   "source": [
    "### b.\n",
    "\n",
    "Interpret the estimated slope of $\\mathit{SexM}$, in terms of an odds ratio."
   ]
  },
  {
   "cell_type": "code",
   "execution_count": null,
   "id": "4e6f65bc-a6e5-41a2-bab0-4e71cd106f5d",
   "metadata": {
    "editable": true,
    "slideshow": {
     "slide_type": ""
    },
    "tags": []
   },
   "outputs": [],
   "source": []
  },
  {
   "cell_type": "markdown",
   "id": "22ca01fb-ab05-478a-9d53-08764dab195c",
   "metadata": {
    "editable": true,
    "slideshow": {
     "slide_type": ""
    },
    "tags": []
   },
   "source": [
    "*Write your answer here. Double-click to edit.*"
   ]
  },
  {
   "cell_type": "markdown",
   "id": "484b4346-c2ff-4843-a97d-f5a3833355a8",
   "metadata": {
    "editable": true,
    "slideshow": {
     "slide_type": ""
    },
    "tags": []
   },
   "source": [
    "### c.\n",
    "\n",
    "Provide a 95\\% confidence interval for the true odds ratio of acceptance between male and female students."
   ]
  },
  {
   "cell_type": "code",
   "execution_count": null,
   "id": "11e7271b-fd4d-4102-9a72-cb2ef5e2b407",
   "metadata": {
    "editable": true,
    "slideshow": {
     "slide_type": ""
    },
    "tags": []
   },
   "outputs": [],
   "source": []
  },
  {
   "cell_type": "markdown",
   "id": "0ff2d5b4-cf20-4852-8e9d-05976fb88f10",
   "metadata": {
    "editable": true,
    "slideshow": {
     "slide_type": ""
    },
    "tags": []
   },
   "source": [
    "### d.\n",
    "\n",
    "Is there significant evidence that the probability of acceptance differs by sex? Justify your answer."
   ]
  },
  {
   "cell_type": "markdown",
   "id": "f73f9a4e-3af8-416a-a765-ea57df80d085",
   "metadata": {
    "editable": true,
    "slideshow": {
     "slide_type": ""
    },
    "tags": []
   },
   "source": [
    "*Write your answer here. Double-click to edit.*"
   ]
  },
  {
   "cell_type": "markdown",
   "id": "9ba40301-4bd1-45c9-8455-2bcfb1a6efca",
   "metadata": {
    "editable": true,
    "slideshow": {
     "slide_type": ""
    },
    "tags": []
   },
   "source": [
    "## Example 2\n",
    "\n",
    "__After accounting for GPA, does probability of acceptance differ by sex?__"
   ]
  },
  {
   "cell_type": "markdown",
   "id": "99f2e0df-8c85-4649-96f0-26a22361e46c",
   "metadata": {
    "editable": true,
    "slideshow": {
     "slide_type": ""
    },
    "tags": []
   },
   "source": [
    "### a.\n",
    "\n",
    "Fit a model that uses GPA and sex to predict acceptance. "
   ]
  },
  {
   "cell_type": "code",
   "execution_count": null,
   "id": "b53f999f-5dd9-4daa-8198-cf48d684afc7",
   "metadata": {
    "editable": true,
    "slideshow": {
     "slide_type": ""
    },
    "tags": []
   },
   "outputs": [],
   "source": []
  },
  {
   "cell_type": "markdown",
   "id": "b6f5f141-fdfc-4cab-9940-092df382ce81",
   "metadata": {
    "editable": true,
    "slideshow": {
     "slide_type": ""
    },
    "tags": []
   },
   "source": [
    "* You should find the fitted model is\n",
    "\n",
    "    $$ \\text{logit}(\\hat{\\pi}) = -21.0680 + 6.1324 \\mathit{GPA} - 1.1697 \\mathit{SexM} $$\n",
    "\n",
    "* Therefore, for male students, the model is\n",
    "    \\begin{align*}\n",
    "    \\text{logit}(\\hat{\\pi}) & = -21.0680 + 6.1324 \\mathit{GPA} - 1.1697 (1)\\\\\n",
    "    & = -22.2377 + 6.1324 \\mathit{GPA}\n",
    "    \\end{align*}\n",
    "    and for female students,\n",
    "    \\begin{align*}\n",
    "    \\text{logit}(\\hat{\\pi}) & = -21.0680 + 6.1324 \\mathit{GPA} - 1.1697 (0)\\\\\n",
    "    & = -21.0680 + 6.1324 \\mathit{GPA}\n",
    "    \\end{align*}"
   ]
  },
  {
   "cell_type": "markdown",
   "id": "b13d5a04-572b-47c0-ad47-b0809b2d703c",
   "metadata": {
    "editable": true,
    "slideshow": {
     "slide_type": ""
    },
    "tags": []
   },
   "source": [
    "### b.\n",
    "\n",
    "Compare the fitted model (in probability form) for male students with the fitted model for female students.\n",
    "\n",
    "In particular, for each fitted model, compute where the midpoint occurs and the slope of the curve at that midpoint. \n",
    "Based on your answers, describe how the plots of the two fitted models compare to each other.\n",
    "\n",
    "*Hint.* See Lesson 24."
   ]
  },
  {
   "cell_type": "code",
   "execution_count": null,
   "id": "a33e583e-a968-4fe5-865f-3faae939095c",
   "metadata": {
    "editable": true,
    "slideshow": {
     "slide_type": ""
    },
    "tags": []
   },
   "outputs": [],
   "source": []
  },
  {
   "cell_type": "markdown",
   "id": "873592bc-20f8-4d1b-b2bf-e4868b6e9027",
   "metadata": {
    "editable": true,
    "slideshow": {
     "slide_type": ""
    },
    "tags": []
   },
   "source": [
    "*Write your answer here. Double-click to edit.*"
   ]
  },
  {
   "cell_type": "markdown",
   "id": "2dd3df01-fe2c-448c-b61f-10d9581aabf0",
   "metadata": {
    "editable": true,
    "slideshow": {
     "slide_type": ""
    },
    "tags": []
   },
   "source": [
    "* Use the code below to plot the fitted models (in probability form) for male students and female students and confirm your answer to part b"
   ]
  },
  {
   "cell_type": "code",
   "execution_count": null,
   "id": "e9df2ca0-4fbb-4b2b-a3e9-7352425f3b53",
   "metadata": {
    "editable": true,
    "slideshow": {
     "slide_type": ""
    },
    "tags": []
   },
   "outputs": [],
   "source": [
    "# Create x values for plots of fitted models\n",
    "xx <- seq(from = 0.0, to = 5.0, by = 0.01)  \n",
    "\n",
    "# Create y values for fitted model for male students\n",
    "male.yy <- predict(fit, newdata = data.frame(GPA = xx, Sex = 'M'), type = 'response')\n",
    "\n",
    "# Create y values for fitted model for female students\n",
    "female.yy <- predict(fit, newdata = data.frame(GPA = xx, Sex = 'F'), type = 'response')\n",
    "\n",
    "# Create plots of fitted models, starting with an empty plot as a starting point\n",
    "plot(NULL, xlim = c(2, 5), ylim = c(0, 1), xlab = 'GPA', ylab = 'P(Acceptance = 1)')\n",
    "lines(xx, male.yy, col = 'red')\n",
    "lines(xx, female.yy, col = 'black')"
   ]
  },
  {
   "cell_type": "markdown",
   "id": "656de3c2-1d1e-42f9-9d48-d6453f9fe572",
   "metadata": {
    "editable": true,
    "slideshow": {
     "slide_type": ""
    },
    "tags": []
   },
   "source": [
    "### c.\n",
    "\n",
    "Is the model useful overall? Conduct an appropriate test to decide."
   ]
  },
  {
   "cell_type": "code",
   "execution_count": null,
   "id": "3864ef8e-13b9-4a61-a759-649d22930410",
   "metadata": {
    "editable": true,
    "slideshow": {
     "slide_type": ""
    },
    "tags": []
   },
   "outputs": [],
   "source": []
  },
  {
   "cell_type": "markdown",
   "id": "433e6e7e-df07-4782-97dd-9e045d446186",
   "metadata": {
    "editable": true,
    "slideshow": {
     "slide_type": ""
    },
    "tags": []
   },
   "source": [
    "*Write your answer here. Double-click to edit.*"
   ]
  },
  {
   "cell_type": "markdown",
   "id": "47d096b9-d886-415e-8651-b5c0e6b7e994",
   "metadata": {
    "editable": true,
    "slideshow": {
     "slide_type": ""
    },
    "tags": []
   },
   "source": [
    "### d.\n",
    "\n",
    "Answer the motivating question for this example. Justify your answer."
   ]
  },
  {
   "cell_type": "markdown",
   "id": "dc4c7c32-2161-41f6-9c47-3c0477703f0a",
   "metadata": {
    "editable": true,
    "slideshow": {
     "slide_type": ""
    },
    "tags": []
   },
   "source": [
    "*Write your answer here. Double-click to edit.*"
   ]
  },
  {
   "cell_type": "markdown",
   "id": "bd23186f-3c5a-4689-ae76-72ef32b7f14c",
   "metadata": {
    "editable": true,
    "slideshow": {
     "slide_type": ""
    },
    "tags": []
   },
   "source": [
    "### e.\n",
    "\n",
    "Estimate the odds ratio of acceptance for male students with a 3.5 GPA versus female students with a 3.5 GPA."
   ]
  },
  {
   "cell_type": "code",
   "execution_count": null,
   "id": "cc93761e-fe4e-4c6d-aa43-59739c5d3d4e",
   "metadata": {
    "editable": true,
    "slideshow": {
     "slide_type": ""
    },
    "tags": []
   },
   "outputs": [],
   "source": []
  },
  {
   "cell_type": "markdown",
   "id": "2ea857b0-766d-4bb5-a244-da2143955318",
   "metadata": {
    "editable": true,
    "slideshow": {
     "slide_type": ""
    },
    "tags": []
   },
   "source": [
    "### f.\n",
    "\n",
    "Interpret the coefficient of $\\mathit{SexM}$ in terms of an odds ratio. "
   ]
  },
  {
   "cell_type": "markdown",
   "id": "17280802-e01e-416f-a32d-ed78eec86c99",
   "metadata": {
    "editable": true,
    "slideshow": {
     "slide_type": ""
    },
    "tags": []
   },
   "source": [
    "*Write your answer here. Double-click to edit.*"
   ]
  },
  {
   "attachments": {},
   "cell_type": "markdown",
   "id": "95c088e0-9a08-47b9-8047-ab6d2458df39",
   "metadata": {
    "editable": true,
    "slideshow": {
     "slide_type": ""
    },
    "tags": []
   },
   "source": [
    "### h.\n",
    "\n",
    "Estimate the odds ratio of acceptance for male students with a 3.8 GPA versus female students with a 3.5 GPA.\n",
    "\n",
    "Note that in this part, you are being asked to compare odds under conditions in which __two variables differ__: $\\mathit{GPA}$ and $\\mathit{SexM}$. So in this case, it isn't as simple as looking at $e^{\\hat{\\beta}_1}$ or $e^{\\hat{\\beta_2}}$."
   ]
  },
  {
   "cell_type": "code",
   "execution_count": null,
   "id": "dea98031-2ea6-447f-866e-bb69e746e0e0",
   "metadata": {
    "editable": true,
    "slideshow": {
     "slide_type": ""
    },
    "tags": []
   },
   "outputs": [],
   "source": []
  },
  {
   "cell_type": "markdown",
   "id": "c702074d-0e4d-4c3f-9fe3-748e228bb357",
   "metadata": {
    "editable": true,
    "slideshow": {
     "slide_type": ""
    },
    "tags": []
   },
   "source": [
    "### i.\n",
    "\n",
    "Interpret the coefficient of $\\mathit{GPA}$ in terms of an odds ratio."
   ]
  },
  {
   "cell_type": "code",
   "execution_count": null,
   "id": "cb4b3acd-05ab-4387-96b0-91209e10298a",
   "metadata": {
    "editable": true,
    "slideshow": {
     "slide_type": ""
    },
    "tags": []
   },
   "outputs": [],
   "source": []
  },
  {
   "cell_type": "markdown",
   "id": "406c34c2-a95d-4c62-a6b1-8a568c5d61ca",
   "metadata": {
    "editable": true,
    "slideshow": {
     "slide_type": ""
    },
    "tags": []
   },
   "source": [
    "*Write your answer here. Double-click to edit.*"
   ]
  },
  {
   "cell_type": "markdown",
   "id": "920cfff6-1909-426a-a569-465e430f26f2",
   "metadata": {
    "editable": true,
    "slideshow": {
     "slide_type": ""
    },
    "tags": []
   },
   "source": [
    "## Example 3\n",
    "\n",
    "__Does the slope of GPA differ by sex?__\n",
    "\n",
    "In other words, is the odds ratio of acceptance for a one-unit increase in GPA different for male students versus female students?"
   ]
  },
  {
   "cell_type": "markdown",
   "id": "a28269df-b79b-4d36-97d7-e0260842cbb6",
   "metadata": {
    "editable": true,
    "slideshow": {
     "slide_type": ""
    },
    "tags": []
   },
   "source": [
    "### a.\n",
    "\n",
    "To allow the slope of GPA to differ by sex, we introduce an interaction term:\n",
    "\n",
    "$$ \\text{logit}(\\pi) = \\beta_0 + \\beta_1 \\mathit{GPA} + \\beta_{2} \\mathit{SexM} + \\beta_3 (\\mathit{GPA} \\times \\mathit{SexM}) $$\n",
    "\n",
    "Fit this model."
   ]
  },
  {
   "cell_type": "code",
   "execution_count": null,
   "id": "41704fd3-7d83-42a6-a34f-a45f6c3ca105",
   "metadata": {
    "editable": true,
    "slideshow": {
     "slide_type": ""
    },
    "tags": []
   },
   "outputs": [],
   "source": []
  },
  {
   "cell_type": "markdown",
   "id": "f9a6db2c-b83a-41a0-9c51-830c6a6b8a9e",
   "metadata": {
    "editable": true,
    "slideshow": {
     "slide_type": ""
    },
    "tags": []
   },
   "source": [
    "- You should find the fitted model is\n",
    "\n",
    "$$ \\text{logit}(\\hat{\\pi}) = -24.385 + 7.083 \\mathit{GPA} + 4.901 \\mathit{SexM} - 1.709 (\\mathit{GPA} \\times \\mathit{SexM}) $$\n",
    "\n",
    "- Therefore, for male students, the model is\n",
    "    \\begin{align*}\n",
    "    \\text{logit}(\\hat{\\pi}) & = -24.385 + 7.083 \\mathit{GPA} + 4.901 (1) - 1.709 (\\mathit{GPA} \\times (1))\\\\\n",
    "    & = -19.484 + 5.374 \\mathit{GPA}\n",
    "    \\end{align*}\n",
    "    and for female students,\n",
    "    \\begin{align*}\n",
    "    \\text{logit}(\\hat{\\pi}) & = -24.385 + 7.083 \\mathit{GPA} + 4.901 (0) - 1.709 (\\mathit{GPA} \\times (0))\\\\\n",
    "    & = -24.385 + 7.083 \\mathit{GPA}\n",
    "    \\end{align*}"
   ]
  },
  {
   "cell_type": "markdown",
   "id": "b0a3a324-6602-4d1c-b4e4-cdb7ac58c4ba",
   "metadata": {
    "editable": true,
    "slideshow": {
     "slide_type": ""
    },
    "tags": []
   },
   "source": [
    "### b.\n",
    "\n",
    "Plot the fitted model (in probability form) for male students and the fitted model for female students."
   ]
  },
  {
   "cell_type": "code",
   "execution_count": null,
   "id": "e6313e58-ebda-4a7c-b4c0-d66aa248c628",
   "metadata": {
    "editable": true,
    "slideshow": {
     "slide_type": ""
    },
    "tags": []
   },
   "outputs": [],
   "source": []
  },
  {
   "cell_type": "markdown",
   "id": "46f446c2-3ed5-4c8d-96bb-1d091baba0af",
   "metadata": {
    "editable": true,
    "slideshow": {
     "slide_type": ""
    },
    "tags": []
   },
   "source": [
    "### c.\n",
    "\n",
    "Estimate the odds ratio of acceptance for a unit increase in GPA for females."
   ]
  },
  {
   "cell_type": "code",
   "execution_count": null,
   "id": "e0c2a37f-fe05-4b3f-9c36-11fa0534eae6",
   "metadata": {
    "editable": true,
    "slideshow": {
     "slide_type": ""
    },
    "tags": []
   },
   "outputs": [],
   "source": []
  },
  {
   "cell_type": "markdown",
   "id": "e83966f2-5152-4f19-b0d7-262d0fdf4cbb",
   "metadata": {
    "editable": true,
    "slideshow": {
     "slide_type": ""
    },
    "tags": []
   },
   "source": [
    "### d.\n",
    "\n",
    "Estimate the odds ratio of acceptance for unit increase in GPA for males."
   ]
  },
  {
   "cell_type": "code",
   "execution_count": null,
   "id": "416e954c-b8f5-46ed-91d9-3b013e0595bc",
   "metadata": {
    "editable": true,
    "slideshow": {
     "slide_type": ""
    },
    "tags": []
   },
   "outputs": [],
   "source": []
  },
  {
   "cell_type": "markdown",
   "id": "be2b6972-e432-406a-8f41-cc98544d969c",
   "metadata": {
    "editable": true,
    "slideshow": {
     "slide_type": ""
    },
    "tags": []
   },
   "source": [
    "### e.\n",
    "\n",
    "Answer the motivating question for this example. Justify your answer."
   ]
  },
  {
   "cell_type": "markdown",
   "id": "e6b75c8d-873f-458b-9cc7-3b54e897a62d",
   "metadata": {
    "editable": true,
    "slideshow": {
     "slide_type": ""
    },
    "tags": []
   },
   "source": [
    "*Write your answer here. Double-click to edit.*"
   ]
  },
  {
   "cell_type": "markdown",
   "id": "c6505d4b-9b33-4343-a796-c00fb4ae7781",
   "metadata": {
    "editable": true,
    "slideshow": {
     "slide_type": ""
    },
    "tags": []
   },
   "source": [
    "### f.\n",
    "\n",
    "Use the fitted model to estimate the probability of acceptance for a male with a 3.5 GPA."
   ]
  },
  {
   "cell_type": "code",
   "execution_count": null,
   "id": "1095ffd2-1b3e-44ff-ac1a-15658a7646b6",
   "metadata": {
    "editable": true,
    "slideshow": {
     "slide_type": ""
    },
    "tags": []
   },
   "outputs": [],
   "source": []
  },
  {
   "cell_type": "markdown",
   "id": "485ab002-609a-4ca0-a6b8-74e0dd16c524",
   "metadata": {
    "editable": true,
    "slideshow": {
     "slide_type": ""
    },
    "tags": []
   },
   "source": [
    "### g.\n",
    "\n",
    "Should we drop both of the predictors that include sex?\n",
    "Use a likelihood ratio test to compare the current model to the model with only GPA as a predictor."
   ]
  },
  {
   "cell_type": "code",
   "execution_count": null,
   "id": "d42dc6e1-76de-4872-939a-5ce191d222d5",
   "metadata": {
    "editable": true,
    "slideshow": {
     "slide_type": ""
    },
    "tags": []
   },
   "outputs": [],
   "source": []
  },
  {
   "cell_type": "code",
   "execution_count": null,
   "id": "9cedbe37-db57-4dde-90d1-b6dedbab127b",
   "metadata": {
    "editable": true,
    "slideshow": {
     "slide_type": ""
    },
    "tags": []
   },
   "outputs": [],
   "source": []
  },
  {
   "cell_type": "markdown",
   "id": "8397c932-bd61-4e86-b300-49343fb21f39",
   "metadata": {
    "editable": true,
    "slideshow": {
     "slide_type": ""
    },
    "tags": []
   },
   "source": [
    "*Write your answer here. Double-click to edit.*"
   ]
  }
 ],
 "metadata": {
  "kernelspec": {
   "display_name": "R",
   "language": "R",
   "name": "ir"
  },
  "language_info": {
   "codemirror_mode": "r",
   "file_extension": ".r",
   "mimetype": "text/x-r-source",
   "name": "R",
   "pygments_lexer": "r",
   "version": "4.3.2"
  }
 },
 "nbformat": 4,
 "nbformat_minor": 5
}
