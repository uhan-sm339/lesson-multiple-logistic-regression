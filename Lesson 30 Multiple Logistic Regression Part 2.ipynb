{
 "cells": [
  {
   "cell_type": "markdown",
   "id": "96bfb1d1-1ac7-413f-8c09-f9c85c9595eb",
   "metadata": {},
   "source": [
    "**SM339 &#x25aa; Applied Statistics &#x25aa; Spring 2023 &#x25aa; Uhan**"
   ]
  },
  {
   "cell_type": "markdown",
   "id": "3824b5ba-55ab-454f-878b-47bc8638c469",
   "metadata": {},
   "source": [
    "# Lesson 30. Multiple Logistic Regression &ndash; Part 2 "
   ]
  },
  {
   "cell_type": "markdown",
   "id": "78bc9396-667e-49b9-8d2b-3b20d18da8e5",
   "metadata": {},
   "source": [
    "In this lesson, we will continue to use the `MedGPA` data, which records whether 55 medical school applicants were accepted."
   ]
  },
  {
   "cell_type": "code",
   "execution_count": 1,
   "id": "64916bed-a2f0-4f6d-adee-6615404ad07e",
   "metadata": {},
   "outputs": [
    {
     "data": {
      "text/html": [
       "<table class=\"dataframe\">\n",
       "<caption>A data.frame: 6 × 11</caption>\n",
       "<thead>\n",
       "\t<tr><th></th><th scope=col>Accept</th><th scope=col>Acceptance</th><th scope=col>Sex</th><th scope=col>BCPM</th><th scope=col>GPA</th><th scope=col>VR</th><th scope=col>PS</th><th scope=col>WS</th><th scope=col>BS</th><th scope=col>MCAT</th><th scope=col>Apps</th></tr>\n",
       "\t<tr><th></th><th scope=col>&lt;fct&gt;</th><th scope=col>&lt;int&gt;</th><th scope=col>&lt;fct&gt;</th><th scope=col>&lt;dbl&gt;</th><th scope=col>&lt;dbl&gt;</th><th scope=col>&lt;int&gt;</th><th scope=col>&lt;int&gt;</th><th scope=col>&lt;int&gt;</th><th scope=col>&lt;int&gt;</th><th scope=col>&lt;int&gt;</th><th scope=col>&lt;int&gt;</th></tr>\n",
       "</thead>\n",
       "<tbody>\n",
       "\t<tr><th scope=row>1</th><td>D</td><td>0</td><td>F</td><td>3.59</td><td>3.62</td><td>11</td><td> 9</td><td>9</td><td> 9</td><td>38</td><td> 5</td></tr>\n",
       "\t<tr><th scope=row>2</th><td>A</td><td>1</td><td>M</td><td>3.75</td><td>3.84</td><td>12</td><td>13</td><td>8</td><td>12</td><td>45</td><td> 3</td></tr>\n",
       "\t<tr><th scope=row>3</th><td>A</td><td>1</td><td>F</td><td>3.24</td><td>3.23</td><td> 9</td><td>10</td><td>5</td><td> 9</td><td>33</td><td>19</td></tr>\n",
       "\t<tr><th scope=row>4</th><td>A</td><td>1</td><td>F</td><td>3.74</td><td>3.69</td><td>12</td><td>11</td><td>7</td><td>10</td><td>40</td><td> 5</td></tr>\n",
       "\t<tr><th scope=row>5</th><td>A</td><td>1</td><td>F</td><td>3.53</td><td>3.38</td><td> 9</td><td>11</td><td>4</td><td>11</td><td>35</td><td>11</td></tr>\n",
       "\t<tr><th scope=row>6</th><td>A</td><td>1</td><td>M</td><td>3.59</td><td>3.72</td><td>10</td><td> 9</td><td>7</td><td>10</td><td>36</td><td> 5</td></tr>\n",
       "</tbody>\n",
       "</table>\n"
      ],
      "text/latex": [
       "A data.frame: 6 × 11\n",
       "\\begin{tabular}{r|lllllllllll}\n",
       "  & Accept & Acceptance & Sex & BCPM & GPA & VR & PS & WS & BS & MCAT & Apps\\\\\n",
       "  & <fct> & <int> & <fct> & <dbl> & <dbl> & <int> & <int> & <int> & <int> & <int> & <int>\\\\\n",
       "\\hline\n",
       "\t1 & D & 0 & F & 3.59 & 3.62 & 11 &  9 & 9 &  9 & 38 &  5\\\\\n",
       "\t2 & A & 1 & M & 3.75 & 3.84 & 12 & 13 & 8 & 12 & 45 &  3\\\\\n",
       "\t3 & A & 1 & F & 3.24 & 3.23 &  9 & 10 & 5 &  9 & 33 & 19\\\\\n",
       "\t4 & A & 1 & F & 3.74 & 3.69 & 12 & 11 & 7 & 10 & 40 &  5\\\\\n",
       "\t5 & A & 1 & F & 3.53 & 3.38 &  9 & 11 & 4 & 11 & 35 & 11\\\\\n",
       "\t6 & A & 1 & M & 3.59 & 3.72 & 10 &  9 & 7 & 10 & 36 &  5\\\\\n",
       "\\end{tabular}\n"
      ],
      "text/markdown": [
       "\n",
       "A data.frame: 6 × 11\n",
       "\n",
       "| <!--/--> | Accept &lt;fct&gt; | Acceptance &lt;int&gt; | Sex &lt;fct&gt; | BCPM &lt;dbl&gt; | GPA &lt;dbl&gt; | VR &lt;int&gt; | PS &lt;int&gt; | WS &lt;int&gt; | BS &lt;int&gt; | MCAT &lt;int&gt; | Apps &lt;int&gt; |\n",
       "|---|---|---|---|---|---|---|---|---|---|---|---|\n",
       "| 1 | D | 0 | F | 3.59 | 3.62 | 11 |  9 | 9 |  9 | 38 |  5 |\n",
       "| 2 | A | 1 | M | 3.75 | 3.84 | 12 | 13 | 8 | 12 | 45 |  3 |\n",
       "| 3 | A | 1 | F | 3.24 | 3.23 |  9 | 10 | 5 |  9 | 33 | 19 |\n",
       "| 4 | A | 1 | F | 3.74 | 3.69 | 12 | 11 | 7 | 10 | 40 |  5 |\n",
       "| 5 | A | 1 | F | 3.53 | 3.38 |  9 | 11 | 4 | 11 | 35 | 11 |\n",
       "| 6 | A | 1 | M | 3.59 | 3.72 | 10 |  9 | 7 | 10 | 36 |  5 |\n",
       "\n"
      ],
      "text/plain": [
       "  Accept Acceptance Sex BCPM GPA  VR PS WS BS MCAT Apps\n",
       "1 D      0          F   3.59 3.62 11  9 9   9 38    5  \n",
       "2 A      1          M   3.75 3.84 12 13 8  12 45    3  \n",
       "3 A      1          F   3.24 3.23  9 10 5   9 33   19  \n",
       "4 A      1          F   3.74 3.69 12 11 7  10 40    5  \n",
       "5 A      1          F   3.53 3.38  9 11 4  11 35   11  \n",
       "6 A      1          M   3.59 3.72 10  9 7  10 36    5  "
      ]
     },
     "metadata": {},
     "output_type": "display_data"
    }
   ],
   "source": [
    "library(Stat2Data)\n",
    "data(MedGPA)\n",
    "head(MedGPA)"
   ]
  },
  {
   "cell_type": "markdown",
   "id": "77f30a7c-b572-42b0-b3c0-0504d9a21139",
   "metadata": {},
   "source": [
    "We will focus on the following variables:\n",
    "\n",
    "| Variable | Description |\n",
    "| :- | :- | \n",
    "| `GPA` | Applicant's college grade point average |\n",
    "| `MCAT` | Applicant's MCAT (Medical College Admission Test) score |\n",
    "| `Sex` | F for female, M for male |\n",
    "| `Acceptance` | 1 if accepted, 0 if not accepted |\n",
    "\n",
    "Unless otherwise stated, use a significance level of $\\alpha = 0.05$.\n",
    "Throughout this lesson, let $\\pi = P(\\mathit{Acceptance} = 1)$."
   ]
  },
  {
   "cell_type": "markdown",
   "id": "805c4ee4-41fa-450b-9f00-724795f0b6a9",
   "metadata": {},
   "source": [
    "## Example 1\n",
    "\n",
    "__Does probability of acceptance differ by sex?__"
   ]
  },
  {
   "cell_type": "markdown",
   "id": "8c50bdfd-4616-438e-9d68-d1ad1a31fece",
   "metadata": {},
   "source": [
    "### a.\n",
    "\n",
    "Fit a model that uses sex to predict acceptance."
   ]
  },
  {
   "cell_type": "code",
   "execution_count": null,
   "id": "3a1b9f9e-5d7b-4616-ad6d-642ac8945ce0",
   "metadata": {},
   "outputs": [],
   "source": []
  },
  {
   "cell_type": "code",
   "execution_count": 2,
   "id": "cf2a1a95-4f88-4f99-8d8f-45178367e867",
   "metadata": {
    "tags": [
     "solution"
    ]
   },
   "outputs": [
    {
     "data": {
      "text/plain": [
       "\n",
       "Call:\n",
       "glm(formula = Acceptance ~ Sex, family = binomial, data = MedGPA)\n",
       "\n",
       "Deviance Residuals: \n",
       "   Min      1Q  Median      3Q     Max  \n",
       "-1.435  -1.084   0.940   0.940   1.274  \n",
       "\n",
       "Coefficients:\n",
       "            Estimate Std. Error z value Pr(>|z|)\n",
       "(Intercept)   0.5878     0.3944   1.490    0.136\n",
       "SexM         -0.8109     0.5528  -1.467    0.142\n",
       "\n",
       "(Dispersion parameter for binomial family taken to be 1)\n",
       "\n",
       "    Null deviance: 75.791  on 54  degrees of freedom\n",
       "Residual deviance: 73.594  on 53  degrees of freedom\n",
       "AIC: 77.594\n",
       "\n",
       "Number of Fisher Scoring iterations: 4\n"
      ]
     },
     "metadata": {},
     "output_type": "display_data"
    }
   ],
   "source": [
    "# Solution\n",
    "fit <- glm(Acceptance ~ Sex, data = MedGPA, family = binomial)\n",
    "summary(fit)"
   ]
  },
  {
   "cell_type": "markdown",
   "id": "204304c8-88a5-432b-bcf0-1fd58efc28bf",
   "metadata": {},
   "source": [
    "Note that `Sex` is a categorical variable with two \"levels\" (categories): "
   ]
  },
  {
   "cell_type": "code",
   "execution_count": 3,
   "id": "64bc2582-968f-4fdb-96b0-93eae3c01da0",
   "metadata": {},
   "outputs": [
    {
     "data": {
      "text/html": [
       "<style>\n",
       ".list-inline {list-style: none; margin:0; padding: 0}\n",
       ".list-inline>li {display: inline-block}\n",
       ".list-inline>li:not(:last-child)::after {content: \"\\00b7\"; padding: 0 .5ex}\n",
       "</style>\n",
       "<ol class=list-inline><li>'F'</li><li>'M'</li></ol>\n"
      ],
      "text/latex": [
       "\\begin{enumerate*}\n",
       "\\item 'F'\n",
       "\\item 'M'\n",
       "\\end{enumerate*}\n"
      ],
      "text/markdown": [
       "1. 'F'\n",
       "2. 'M'\n",
       "\n",
       "\n"
      ],
      "text/plain": [
       "[1] \"F\" \"M\""
      ]
     },
     "metadata": {},
     "output_type": "display_data"
    }
   ],
   "source": [
    "levels(MedGPA$Sex)"
   ]
  },
  {
   "cell_type": "markdown",
   "id": "1e800815-d9d3-4cea-983f-2a65695854b0",
   "metadata": {},
   "source": [
    "For categorical variables, R automatically creates a binary variable for every level except the first:\n",
    "\n",
    "$$ \\mathit{SexM} = \\begin{cases}\n",
    "1 & \\text{if $\\mathit{Sex}$ = M}\\\\\n",
    "0 & \\text{otherwise}\n",
    "\\end{cases}$$\n",
    "\n",
    "The first level (in this case, 'F') is used as the reference category.\n",
    "\n",
    "You should find the fitted model is\n",
    "\n",
    "$$ \\text{logit}(\\hat{\\pi}) = 0.5878 - 0.8109 \\mathit{SexM} $$"
   ]
  },
  {
   "cell_type": "markdown",
   "id": "9cdc7a7e-b8a0-4a19-9c25-43d434b8a517",
   "metadata": {},
   "source": [
    "### b.\n",
    "\n",
    "Interpret the estimated slope of $\\mathit{SexM}$, in terms of an odds ratio."
   ]
  },
  {
   "cell_type": "code",
   "execution_count": null,
   "id": "4e6f65bc-a6e5-41a2-bab0-4e71cd106f5d",
   "metadata": {},
   "outputs": [],
   "source": []
  },
  {
   "cell_type": "code",
   "execution_count": 4,
   "id": "eadc44de-ebe5-47dc-9d89-c9bfa276472f",
   "metadata": {
    "tags": [
     "solution"
    ]
   },
   "outputs": [
    {
     "data": {
      "text/html": [
       "0.444858066222941"
      ],
      "text/latex": [
       "0.444858066222941"
      ],
      "text/markdown": [
       "0.444858066222941"
      ],
      "text/plain": [
       "[1] 0.4448581"
      ]
     },
     "metadata": {},
     "output_type": "display_data"
    }
   ],
   "source": [
    "# Solution\n",
    "exp(-0.81)"
   ]
  },
  {
   "cell_type": "markdown",
   "id": "22ca01fb-ab05-478a-9d53-08764dab195c",
   "metadata": {},
   "source": [
    "*Write your answer here. Double-click to edit.*"
   ]
  },
  {
   "cell_type": "markdown",
   "id": "35fd3e8f-488d-4f59-9fa4-ffda3fbfa5ba",
   "metadata": {
    "tags": [
     "solution"
    ]
   },
   "source": [
    "*Solution.*\n",
    "The odds of acceptance for males are $e^{-0.81} = 0.44$ times as high as for females."
   ]
  },
  {
   "cell_type": "markdown",
   "id": "484b4346-c2ff-4843-a97d-f5a3833355a8",
   "metadata": {},
   "source": [
    "### c.\n",
    "\n",
    "Provide a 95\\% confidence interval for the true odds ratio."
   ]
  },
  {
   "cell_type": "code",
   "execution_count": null,
   "id": "11e7271b-fd4d-4102-9a72-cb2ef5e2b407",
   "metadata": {},
   "outputs": [],
   "source": []
  },
  {
   "cell_type": "code",
   "execution_count": 5,
   "id": "a6d5a033-622e-4a83-8fe2-3e5510018005",
   "metadata": {
    "tags": [
     "solution"
    ]
   },
   "outputs": [
    {
     "data": {
      "text/html": [
       "0.150413352625316"
      ],
      "text/latex": [
       "0.150413352625316"
      ],
      "text/markdown": [
       "0.150413352625316"
      ],
      "text/plain": [
       "[1] 0.1504134"
      ]
     },
     "metadata": {},
     "output_type": "display_data"
    },
    {
     "data": {
      "text/html": [
       "1.31333288156252"
      ],
      "text/latex": [
       "1.31333288156252"
      ],
      "text/markdown": [
       "1.31333288156252"
      ],
      "text/plain": [
       "[1] 1.313333"
      ]
     },
     "metadata": {},
     "output_type": "display_data"
    }
   ],
   "source": [
    "# Solution\n",
    "alpha <- 0.05\n",
    "z <- qnorm(1 - alpha / 2, mean = 0, sd = 1)\n",
    "\n",
    "slope.ci.lower <- -0.8109 - z * 0.5528\n",
    "slope.ci.upper <- -0.8109 + z * 0.5528\n",
    "\n",
    "or.ci.lower <- exp(slope.ci.lower)\n",
    "or.ci.upper <- exp(slope.ci.upper)\n",
    "\n",
    "or.ci.lower\n",
    "or.ci.upper"
   ]
  },
  {
   "cell_type": "markdown",
   "id": "0ff2d5b4-cf20-4852-8e9d-05976fb88f10",
   "metadata": {},
   "source": [
    "### d.\n",
    "\n",
    "Is there significant evidence that the probability of acceptance differs by sex? Justify your answer."
   ]
  },
  {
   "cell_type": "markdown",
   "id": "f73f9a4e-3af8-416a-a765-ea57df80d085",
   "metadata": {},
   "source": [
    "*Write your answer here. Double-click to edit.*"
   ]
  },
  {
   "cell_type": "markdown",
   "id": "44a5dbfe-9227-447e-97b8-de0876f10c84",
   "metadata": {
    "tags": [
     "solution"
    ]
   },
   "source": [
    "*Solution*.\n",
    "The $z$-test for the slope of $\\mathit{SexM}$ results in a $p$-value of 0.142, which is greater than $\\alpha$.\n",
    "Therefore, we fail to reject the null hypothesis.\n",
    "We conclude that we do **not** have significant evidence that the probability of acceptance differs by sex. "
   ]
  },
  {
   "cell_type": "markdown",
   "id": "9ba40301-4bd1-45c9-8455-2bcfb1a6efca",
   "metadata": {},
   "source": [
    "## Example 2\n",
    "\n",
    "__After accounting for GPA, does probability of acceptance differ by sex?__"
   ]
  },
  {
   "cell_type": "markdown",
   "id": "99f2e0df-8c85-4649-96f0-26a22361e46c",
   "metadata": {},
   "source": [
    "### a.\n",
    "\n",
    "Fit a model that uses GPA and sex to predict acceptance. "
   ]
  },
  {
   "cell_type": "code",
   "execution_count": null,
   "id": "b53f999f-5dd9-4daa-8198-cf48d684afc7",
   "metadata": {},
   "outputs": [],
   "source": []
  },
  {
   "cell_type": "code",
   "execution_count": 6,
   "id": "75036c3b-77e5-4e80-86b4-3a14bd121e52",
   "metadata": {
    "tags": [
     "solution"
    ]
   },
   "outputs": [
    {
     "data": {
      "text/plain": [
       "\n",
       "Call:\n",
       "glm(formula = Acceptance ~ GPA + Sex, family = binomial, data = MedGPA)\n",
       "\n",
       "Deviance Residuals: \n",
       "    Min       1Q   Median       3Q      Max  \n",
       "-1.8171  -0.9753   0.2978   0.7194   2.4623  \n",
       "\n",
       "Coefficients:\n",
       "            Estimate Std. Error z value Pr(>|z|)    \n",
       "(Intercept) -21.0680     6.4025  -3.291 0.001000 ***\n",
       "GPA           6.1324     1.8283   3.354 0.000796 ***\n",
       "SexM         -1.1697     0.7178  -1.629 0.103210    \n",
       "---\n",
       "Signif. codes:  0 ‘***’ 0.001 ‘**’ 0.01 ‘*’ 0.05 ‘.’ 0.1 ‘ ’ 1\n",
       "\n",
       "(Dispersion parameter for binomial family taken to be 1)\n",
       "\n",
       "    Null deviance: 75.791  on 54  degrees of freedom\n",
       "Residual deviance: 53.945  on 52  degrees of freedom\n",
       "AIC: 59.945\n",
       "\n",
       "Number of Fisher Scoring iterations: 5\n"
      ]
     },
     "metadata": {},
     "output_type": "display_data"
    }
   ],
   "source": [
    "# Solution\n",
    "fit <- glm(Acceptance ~ GPA + Sex, data = MedGPA, family = binomial)\n",
    "summary(fit)"
   ]
  },
  {
   "cell_type": "markdown",
   "id": "b6f5f141-fdfc-4cab-9940-092df382ce81",
   "metadata": {},
   "source": [
    "You should find the fitted model is\n",
    "\n",
    "$$ \\text{logit}(\\hat{\\pi}) = -21.0680 + 6.1324 \\mathit{GPA} - 1.1697 \\mathit{SexM} $$\n",
    "\n",
    "Therefore, for males, the model is\n",
    "\\begin{align*}\n",
    "\\text{logit}(\\hat{\\pi}) & = -21.0680 + 6.1324 \\mathit{GPA} - 1.1697 (1)\\\\\n",
    "& = -22.2377 + 6.1324 \\mathit{GPA}\n",
    "\\end{align*}\n",
    "and for females,\n",
    "\\begin{align*}\n",
    "\\text{logit}(\\hat{\\pi}) & = -21.0680 + 6.1324 \\mathit{GPA} - 1.1697 (0)\\\\\n",
    "& = -21.0680 + 6.1324 \\mathit{GPA}\n",
    "\\end{align*}"
   ]
  },
  {
   "cell_type": "markdown",
   "id": "2dd3df01-fe2c-448c-b61f-10d9581aabf0",
   "metadata": {},
   "source": [
    "### b.\n",
    "\n",
    "Sketch the plots of the fitted model (in probability form) for males and females.\n",
    "Use the axes provided at the end of the notes for Part 1."
   ]
  },
  {
   "cell_type": "markdown",
   "id": "c51c0725-9381-491e-86c2-8f40987d239d",
   "metadata": {
    "tags": [
     "solution"
    ]
   },
   "source": [
    "*Solution.* The plots for both models will have the same curvature, since they both have the same slope on GPA.\n",
    "\n",
    "The vertical midpoint for the male model occurs at $\\mathit{GPA} = 22.2377 / 6.1324 = 3.6263$, and the vertical midpoint for the female model occurs at $\\mathit{GPA} = 21.0680 / 6.1324 = 3.4356$."
   ]
  },
  {
   "cell_type": "markdown",
   "id": "656de3c2-1d1e-42f9-9d48-d6453f9fe572",
   "metadata": {},
   "source": [
    "### c.\n",
    "\n",
    "Is the model useful overall? Conduct an appropriate test to decide."
   ]
  },
  {
   "cell_type": "code",
   "execution_count": null,
   "id": "3864ef8e-13b9-4a61-a759-649d22930410",
   "metadata": {},
   "outputs": [],
   "source": []
  },
  {
   "cell_type": "code",
   "execution_count": 7,
   "id": "fb73fe36-2dee-4128-bf00-e17d932881a1",
   "metadata": {
    "tags": [
     "solution"
    ]
   },
   "outputs": [
    {
     "data": {
      "text/html": [
       "21.846"
      ],
      "text/latex": [
       "21.846"
      ],
      "text/markdown": [
       "21.846"
      ],
      "text/plain": [
       "[1] 21.846"
      ]
     },
     "metadata": {},
     "output_type": "display_data"
    },
    {
     "data": {
      "text/html": [
       "1.80385396008065e-05"
      ],
      "text/latex": [
       "1.80385396008065e-05"
      ],
      "text/markdown": [
       "1.80385396008065e-05"
      ],
      "text/plain": [
       "[1] 1.803854e-05"
      ]
     },
     "metadata": {},
     "output_type": "display_data"
    }
   ],
   "source": [
    "# Solution\n",
    "G <- 75.791 - 53.945\n",
    "p.value <- 1 - pchisq(G, df = 2)\n",
    "\n",
    "G\n",
    "p.value"
   ]
  },
  {
   "cell_type": "markdown",
   "id": "433e6e7e-df07-4782-97dd-9e045d446186",
   "metadata": {},
   "source": [
    "*Write your answer here. Double-click to edit.*"
   ]
  },
  {
   "cell_type": "markdown",
   "id": "69895aa5-42b9-484a-9e2a-87268d130495",
   "metadata": {
    "tags": [
     "solution"
    ]
   },
   "source": [
    "*Solution.* \n",
    "\n",
    "LRT for model utility:\n",
    "\n",
    "1. $H_0: \\beta_1 = \\beta_2 = 0$ versus $H_A: \\text{at least one } \\beta_i \\ne 0$\n",
    "2. $G = 75.791 - 53.945 = 21.846$\n",
    "3. $p$-value = $1.804 \\times 10^{-5}$\n",
    "4. Reject $H_0$, because $p$-value is less than $\\alpha = 0.05$. We see significant evidence that the model is useful."
   ]
  },
  {
   "cell_type": "markdown",
   "id": "47d096b9-d886-415e-8651-b5c0e6b7e994",
   "metadata": {},
   "source": [
    "### d.\n",
    "\n",
    "Answer the motivating question for this example. Justify your answer."
   ]
  },
  {
   "cell_type": "markdown",
   "id": "dc4c7c32-2161-41f6-9c47-3c0477703f0a",
   "metadata": {},
   "source": [
    "*Write your answer here. Double-click to edit.*"
   ]
  },
  {
   "cell_type": "markdown",
   "id": "d3a92f99-b3f2-46a6-a65d-addd3b431911",
   "metadata": {
    "tags": [
     "solution"
    ]
   },
   "source": [
    "*Solution.* We fail to reject the null hypothesis of a $z$-test for the coefficient of $\\mathit{SexM}$, because the $p$-value = 0.103210 > 0.05 = $\\alpha$. \n",
    "\n",
    "No, we do not see significant evidence that the probability of acceptance differs by sex."
   ]
  },
  {
   "cell_type": "markdown",
   "id": "bd23186f-3c5a-4689-ae76-72ef32b7f14c",
   "metadata": {},
   "source": [
    "### e.\n",
    "\n",
    "Estimate the odds ratio of acceptance for males with a 3.5 GPA versus females with a 3.5 GPA."
   ]
  },
  {
   "cell_type": "code",
   "execution_count": null,
   "id": "cc93761e-fe4e-4c6d-aa43-59739c5d3d4e",
   "metadata": {},
   "outputs": [],
   "source": []
  },
  {
   "cell_type": "code",
   "execution_count": 8,
   "id": "302688aa-79f7-441f-bc2d-fa1bfcac9628",
   "metadata": {
    "tags": [
     "solution"
    ]
   },
   "outputs": [
    {
     "data": {
      "text/html": [
       "0.310460065315774"
      ],
      "text/latex": [
       "0.310460065315774"
      ],
      "text/markdown": [
       "0.310460065315774"
      ],
      "text/plain": [
       "[1] 0.3104601"
      ]
     },
     "metadata": {},
     "output_type": "display_data"
    }
   ],
   "source": [
    "# Solution\n",
    "odds.male <- exp(-21.0680 + 6.1324*3.5 - 1.1697*1)\n",
    "odds.female <- exp(-21.0680 + 6.1324*3.5 - 1.1697*0)\n",
    "\n",
    "odds.male / odds.female"
   ]
  },
  {
   "cell_type": "markdown",
   "id": "832a6b92-302e-4b99-9932-8048a41b62c3",
   "metadata": {},
   "source": [
    "Your answer should be $e^{\\hat{\\beta}_2} = e^{-1.1697}$:"
   ]
  },
  {
   "cell_type": "code",
   "execution_count": 9,
   "id": "da20b088-ab90-47d7-8342-640b792dd2b0",
   "metadata": {},
   "outputs": [
    {
     "data": {
      "text/html": [
       "0.310460065315774"
      ],
      "text/latex": [
       "0.310460065315774"
      ],
      "text/markdown": [
       "0.310460065315774"
      ],
      "text/plain": [
       "[1] 0.3104601"
      ]
     },
     "metadata": {},
     "output_type": "display_data"
    }
   ],
   "source": [
    "exp(-1.1697)"
   ]
  },
  {
   "cell_type": "markdown",
   "id": "2ea857b0-766d-4bb5-a244-da2143955318",
   "metadata": {},
   "source": [
    "### f.\n",
    "\n",
    "Interpret the coefficient of $\\mathit{SexM}$ in terms of an odds ratio. "
   ]
  },
  {
   "cell_type": "markdown",
   "id": "17280802-e01e-416f-a32d-ed78eec86c99",
   "metadata": {},
   "source": [
    "*Write your answer here. Double-click to edit.*"
   ]
  },
  {
   "cell_type": "markdown",
   "id": "b38f7457-9e89-4f74-b783-c15b2e9ca854",
   "metadata": {
    "tags": [
     "solution"
    ]
   },
   "source": [
    "*Solution.* For any fixed GPA, the odds of a male being accepted are 0.31 times as high as for a female.\n",
    "\n",
    "Caveat: in part d, we showed that we actually don't have significant evidence that $\\beta_2 \\ne 0$. "
   ]
  },
  {
   "cell_type": "markdown",
   "id": "31ffcf93-cc34-499a-b76e-5408205d9c25",
   "metadata": {},
   "source": [
    "### g.\n",
    "\n",
    "Estimate the odds ratio of acceptance for males with a 3.8 GPA versus females with a 3.5 GPA."
   ]
  },
  {
   "cell_type": "code",
   "execution_count": null,
   "id": "dea98031-2ea6-447f-866e-bb69e746e0e0",
   "metadata": {},
   "outputs": [],
   "source": []
  },
  {
   "cell_type": "code",
   "execution_count": 10,
   "id": "355216e2-889b-45c4-94fa-046adba97d11",
   "metadata": {
    "tags": [
     "solution"
    ]
   },
   "outputs": [
    {
     "data": {
      "text/html": [
       "1.95427640577319"
      ],
      "text/latex": [
       "1.95427640577319"
      ],
      "text/markdown": [
       "1.95427640577319"
      ],
      "text/plain": [
       "[1] 1.954276"
      ]
     },
     "metadata": {},
     "output_type": "display_data"
    }
   ],
   "source": [
    "# Solution\n",
    "odds.1 <- exp(-21.0680 + 6.1324*3.8 - 1.1697*1)\n",
    "odds.2 <- exp(-21.0680 + 6.1324*3.5 - 1.1697*0)\n",
    "\n",
    "odds.1 / odds.2"
   ]
  },
  {
   "cell_type": "markdown",
   "id": "7c608da2-7d64-4f5e-b442-a32440429ff9",
   "metadata": {},
   "source": [
    "Note that in this part, you are being asked to compare odds under conditions in which __two variables differ__: $\\mathit{GPA}$ and $\\mathit{SexM}$. So in this case, it isn't as simple as looking at $e^{\\hat{\\beta}_1}$ or $e^{\\hat{\\beta_2}}$."
   ]
  },
  {
   "cell_type": "markdown",
   "id": "c702074d-0e4d-4c3f-9fe3-748e228bb357",
   "metadata": {},
   "source": [
    "### h.\n",
    "\n",
    "Interpret the coefficient of $\\mathit{GPA}$ in terms of an odds ratio."
   ]
  },
  {
   "cell_type": "code",
   "execution_count": null,
   "id": "cb4b3acd-05ab-4387-96b0-91209e10298a",
   "metadata": {},
   "outputs": [],
   "source": []
  },
  {
   "cell_type": "code",
   "execution_count": 11,
   "id": "a71d826f-ceee-4b2d-9be5-7340e9a3ae94",
   "metadata": {
    "tags": [
     "solution"
    ]
   },
   "outputs": [
    {
     "data": {
      "text/html": [
       "460.540131700885"
      ],
      "text/latex": [
       "460.540131700885"
      ],
      "text/markdown": [
       "460.540131700885"
      ],
      "text/plain": [
       "[1] 460.5401"
      ]
     },
     "metadata": {},
     "output_type": "display_data"
    }
   ],
   "source": [
    "# Solution\n",
    "exp(6.1324)"
   ]
  },
  {
   "cell_type": "markdown",
   "id": "406c34c2-a95d-4c62-a6b1-8a568c5d61ca",
   "metadata": {},
   "source": [
    "*Write your answer here. Double-click to edit.*"
   ]
  },
  {
   "cell_type": "markdown",
   "id": "74f8a205-79cc-44fe-90a9-ba8541d81241",
   "metadata": {
    "tags": [
     "solution"
    ]
   },
   "source": [
    "*Solution.* For fixed sex, the odds of acceptance are $e^{6.1324} = 460.540$ times higher with a one point increase in GPA.  "
   ]
  },
  {
   "cell_type": "markdown",
   "id": "920cfff6-1909-426a-a569-465e430f26f2",
   "metadata": {},
   "source": [
    "## Example 3\n",
    "\n",
    "__Does the slope of GPA differ by sex?__\n",
    "\n",
    "In other words, is the odds ratio of acceptance for a one-unit increase in GPA different for males versus females?"
   ]
  },
  {
   "cell_type": "markdown",
   "id": "a28269df-b79b-4d36-97d7-e0260842cbb6",
   "metadata": {},
   "source": [
    "### a.\n",
    "\n",
    "To allow the slope of GPA to differ by sex, we introduce an interaction term:\n",
    "\n",
    "$$ \\text{logit}(\\pi) = \\beta_0 + \\beta_1 \\mathit{GPA} + \\beta_{2} \\mathit{SexM} + \\beta_3 (\\mathit{GPA} \\times \\mathit{SexM}) $$\n",
    "\n",
    "Fit this model."
   ]
  },
  {
   "cell_type": "code",
   "execution_count": null,
   "id": "41704fd3-7d83-42a6-a34f-a45f6c3ca105",
   "metadata": {},
   "outputs": [],
   "source": []
  },
  {
   "cell_type": "code",
   "execution_count": 12,
   "id": "1a7f9768-047f-4202-8c3b-c3611e7c7317",
   "metadata": {
    "tags": [
     "solution"
    ]
   },
   "outputs": [
    {
     "data": {
      "text/plain": [
       "\n",
       "Call:\n",
       "glm(formula = Acceptance ~ GPA + Sex + GPA:Sex, family = binomial, \n",
       "    data = MedGPA)\n",
       "\n",
       "Deviance Residuals: \n",
       "    Min       1Q   Median       3Q      Max  \n",
       "-1.8936  -0.9547   0.2411   0.7240   2.3147  \n",
       "\n",
       "Coefficients:\n",
       "            Estimate Std. Error z value Pr(>|z|)  \n",
       "(Intercept)  -24.385     10.082  -2.419   0.0156 *\n",
       "GPA            7.083      2.891   2.450   0.0143 *\n",
       "SexM           4.901     13.156   0.373   0.7095  \n",
       "GPA:SexM      -1.709      3.709  -0.461   0.6450  \n",
       "---\n",
       "Signif. codes:  0 ‘***’ 0.001 ‘**’ 0.01 ‘*’ 0.05 ‘.’ 0.1 ‘ ’ 1\n",
       "\n",
       "(Dispersion parameter for binomial family taken to be 1)\n",
       "\n",
       "    Null deviance: 75.791  on 54  degrees of freedom\n",
       "Residual deviance: 53.729  on 51  degrees of freedom\n",
       "AIC: 61.729\n",
       "\n",
       "Number of Fisher Scoring iterations: 5\n"
      ]
     },
     "metadata": {},
     "output_type": "display_data"
    }
   ],
   "source": [
    "# Solution\n",
    "fit <- glm(Acceptance ~ GPA + Sex + GPA:Sex, data = MedGPA, family = binomial)\n",
    "summary(fit)"
   ]
  },
  {
   "cell_type": "markdown",
   "id": "f9a6db2c-b83a-41a0-9c51-830c6a6b8a9e",
   "metadata": {},
   "source": [
    "You should find the fitted model is\n",
    "\n",
    "$$ \\text{logit}(\\hat{\\pi}) = -24.385 + 7.083 \\mathit{GPA} + 4.901 \\mathit{SexM} - 1.709 (\\mathit{GPA} \\times \\mathit{SexM}) $$\n",
    "\n",
    "Therefore, for males, the model is\n",
    "\\begin{align*}\n",
    "\\text{logit}(\\hat{\\pi}) & = -24.385 + 7.083 \\mathit{GPA} + 4.901 (1) - 1.709 (\\mathit{GPA} \\times (1))\\\\\n",
    "& = -19.484 + 5.374 \\mathit{GPA}\n",
    "\\end{align*}\n",
    "and for females,\n",
    "\\begin{align*}\n",
    "\\text{logit}(\\hat{\\pi}) & = -24.385 + 7.083 \\mathit{GPA} + 4.901 (0) - 1.709 (\\mathit{GPA} \\times (0))\\\\\n",
    "& = -24.385 + 7.083 \\mathit{GPA}\n",
    "\\end{align*}"
   ]
  },
  {
   "cell_type": "markdown",
   "id": "b0a3a324-6602-4d1c-b4e4-cdb7ac58c4ba",
   "metadata": {},
   "source": [
    "### b.\n",
    "\n",
    "Sketch the plots of the fitted model (in probability form) for males and females.\n",
    "Use the axes provided at the end of the notes for Part 1."
   ]
  },
  {
   "cell_type": "markdown",
   "id": "f3f39984-1c70-4f97-9ab9-962632b36e37",
   "metadata": {
    "tags": [
     "solution"
    ]
   },
   "source": [
    "*Solution.*  The vertical midpoint for the male model occurs at $\\mathit{GPA} = 19.484 / 5.374 = 3.626$, and the vertical midpoint for the female model occurs at $\\mathit{GPA} = 24.385 / 7.083 = 3.443$.\n",
    "\n",
    "The slope at the vertical midpoint for the male model is $5.374 / 4 = 1.344$, and the slope at the vertical midpoint for the female model occurs at $7.083 /4 = 1.771$."
   ]
  },
  {
   "cell_type": "markdown",
   "id": "46f446c2-3ed5-4c8d-96bb-1d091baba0af",
   "metadata": {},
   "source": [
    "### c.\n",
    "\n",
    "Estimate the odds ratio of acceptance for a unit increase in GPA for females."
   ]
  },
  {
   "cell_type": "code",
   "execution_count": null,
   "id": "e0c2a37f-fe05-4b3f-9c36-11fa0534eae6",
   "metadata": {},
   "outputs": [],
   "source": []
  },
  {
   "cell_type": "code",
   "execution_count": 13,
   "id": "c50d25c1-6083-4af0-98bf-8bc5683ff05b",
   "metadata": {
    "tags": [
     "solution"
    ]
   },
   "outputs": [
    {
     "data": {
      "text/html": [
       "1191.53777527282"
      ],
      "text/latex": [
       "1191.53777527282"
      ],
      "text/markdown": [
       "1191.53777527282"
      ],
      "text/plain": [
       "[1] 1191.538"
      ]
     },
     "metadata": {},
     "output_type": "display_data"
    }
   ],
   "source": [
    "# Solution\n",
    "exp(7.083)"
   ]
  },
  {
   "cell_type": "markdown",
   "id": "e83966f2-5152-4f19-b0d7-262d0fdf4cbb",
   "metadata": {},
   "source": [
    "### d.\n",
    "\n",
    "Estimate the odds ratio of acceptance for unit increase in GPA for males."
   ]
  },
  {
   "cell_type": "code",
   "execution_count": null,
   "id": "416e954c-b8f5-46ed-91d9-3b013e0595bc",
   "metadata": {},
   "outputs": [],
   "source": []
  },
  {
   "cell_type": "code",
   "execution_count": 14,
   "id": "423ab124-0148-4bba-957f-a16c80d043cb",
   "metadata": {
    "tags": [
     "solution"
    ]
   },
   "outputs": [
    {
     "data": {
      "text/html": [
       "215.724040372259"
      ],
      "text/latex": [
       "215.724040372259"
      ],
      "text/markdown": [
       "215.724040372259"
      ],
      "text/plain": [
       "[1] 215.724"
      ]
     },
     "metadata": {},
     "output_type": "display_data"
    }
   ],
   "source": [
    "# Solution\n",
    "exp(5.374)"
   ]
  },
  {
   "cell_type": "markdown",
   "id": "be2b6972-e432-406a-8f41-cc98544d969c",
   "metadata": {},
   "source": [
    "### e.\n",
    "\n",
    "Answer the motivating question for this example. Justify your answer."
   ]
  },
  {
   "cell_type": "markdown",
   "id": "e6b75c8d-873f-458b-9cc7-3b54e897a62d",
   "metadata": {},
   "source": [
    "*Write your answer here. Double-click to edit.*"
   ]
  },
  {
   "cell_type": "markdown",
   "id": "a3168883-9346-4682-8481-6e0f1a776fe5",
   "metadata": {
    "tags": [
     "solution"
    ]
   },
   "source": [
    "*Solution.* We fail to reject the null hypothesis of a $z$-test for the coefficient of $\\mathit{GPA} \\times \\mathit{SexM}$, because the $p$-value = 0.6450 > 0.05 = $\\alpha$. \n",
    "\n",
    "No, we do not see significant evidence that the slope of $\\mathit{GPA}$ differs by sex."
   ]
  },
  {
   "cell_type": "markdown",
   "id": "c6505d4b-9b33-4343-a796-c00fb4ae7781",
   "metadata": {},
   "source": [
    "### f.\n",
    "\n",
    "Use the fitted model to estimate the probability of acceptance for a male with a 3.5 GPA."
   ]
  },
  {
   "cell_type": "code",
   "execution_count": null,
   "id": "1095ffd2-1b3e-44ff-ac1a-15658a7646b6",
   "metadata": {},
   "outputs": [],
   "source": []
  },
  {
   "cell_type": "code",
   "execution_count": 15,
   "id": "1a69f310-dbf7-48cc-bd92-e76002b32eba",
   "metadata": {
    "tags": [
     "solution"
    ]
   },
   "outputs": [
    {
     "data": {
      "text/html": [
       "0.337378162829917"
      ],
      "text/latex": [
       "0.337378162829917"
      ],
      "text/markdown": [
       "0.337378162829917"
      ],
      "text/plain": [
       "[1] 0.3373782"
      ]
     },
     "metadata": {},
     "output_type": "display_data"
    }
   ],
   "source": [
    "# Solution\n",
    "odds <- exp(-24.385 + 7.083*3.5 + 4.901*1 - 1.709*3.5*1)\n",
    "\n",
    "odds / (1 + odds)"
   ]
  },
  {
   "cell_type": "markdown",
   "id": "485ab002-609a-4ca0-a6b8-74e0dd16c524",
   "metadata": {},
   "source": [
    "### g.\n",
    "\n",
    "Should we drop both of the predictors that include sex?\n",
    "Use a likelihood ratio test to compare the current model to the model with only GPA as a predictor."
   ]
  },
  {
   "cell_type": "code",
   "execution_count": null,
   "id": "d42dc6e1-76de-4872-939a-5ce191d222d5",
   "metadata": {},
   "outputs": [],
   "source": []
  },
  {
   "cell_type": "code",
   "execution_count": 16,
   "id": "d0299674-c45e-4ce4-b0d3-23bb0dd71752",
   "metadata": {
    "tags": [
     "solution"
    ]
   },
   "outputs": [
    {
     "data": {
      "text/plain": [
       "\n",
       "Call:\n",
       "glm(formula = Acceptance ~ GPA, family = binomial, data = MedGPA)\n",
       "\n",
       "Deviance Residuals: \n",
       "    Min       1Q   Median       3Q      Max  \n",
       "-1.7805  -0.8522   0.4407   0.7819   2.0967  \n",
       "\n",
       "Coefficients:\n",
       "            Estimate Std. Error z value Pr(>|z|)    \n",
       "(Intercept)  -19.207      5.629  -3.412 0.000644 ***\n",
       "GPA            5.454      1.579   3.454 0.000553 ***\n",
       "---\n",
       "Signif. codes:  0 ‘***’ 0.001 ‘**’ 0.01 ‘*’ 0.05 ‘.’ 0.1 ‘ ’ 1\n",
       "\n",
       "(Dispersion parameter for binomial family taken to be 1)\n",
       "\n",
       "    Null deviance: 75.791  on 54  degrees of freedom\n",
       "Residual deviance: 56.839  on 53  degrees of freedom\n",
       "AIC: 60.839\n",
       "\n",
       "Number of Fisher Scoring iterations: 4\n"
      ]
     },
     "metadata": {},
     "output_type": "display_data"
    }
   ],
   "source": [
    "# Solution\n",
    "fit.GPA.only <- glm(Acceptance ~ GPA, data = MedGPA, family = binomial)\n",
    "summary(fit.GPA.only)"
   ]
  },
  {
   "cell_type": "code",
   "execution_count": null,
   "id": "9cedbe37-db57-4dde-90d1-b6dedbab127b",
   "metadata": {},
   "outputs": [],
   "source": []
  },
  {
   "cell_type": "code",
   "execution_count": 17,
   "id": "c2d600d7-f651-4bbf-a555-a60da023984e",
   "metadata": {
    "tags": [
     "solution"
    ]
   },
   "outputs": [
    {
     "data": {
      "text/html": [
       "3.11"
      ],
      "text/latex": [
       "3.11"
      ],
      "text/markdown": [
       "3.11"
      ],
      "text/plain": [
       "[1] 3.11"
      ]
     },
     "metadata": {},
     "output_type": "display_data"
    },
    {
     "data": {
      "text/html": [
       "0.211189382640971"
      ],
      "text/latex": [
       "0.211189382640971"
      ],
      "text/markdown": [
       "0.211189382640971"
      ],
      "text/plain": [
       "[1] 0.2111894"
      ]
     },
     "metadata": {},
     "output_type": "display_data"
    }
   ],
   "source": [
    "# Solution\n",
    "G = 56.839 - 53.729\n",
    "p.value <- 1 - pchisq(G, 2)\n",
    "\n",
    "G\n",
    "p.value"
   ]
  },
  {
   "cell_type": "markdown",
   "id": "8397c932-bd61-4e86-b300-49343fb21f39",
   "metadata": {},
   "source": [
    "*Write your answer here. Double-click to edit.*"
   ]
  },
  {
   "cell_type": "markdown",
   "id": "32e9d47b-80a6-42b2-8e14-65ee4e999eaf",
   "metadata": {
    "tags": [
     "solution"
    ]
   },
   "source": [
    "*Solution.* \n",
    "\n",
    "Nested LRT:\n",
    "\n",
    "1. $H_0: \\beta_2 = \\beta_3 = 0$ (reduced model) vs. $H_A: \\text{at least one ($\\beta_2$ or $\\beta_3$) $\\ne 0$}$ (full model)\n",
    "2. G = 3.11\n",
    "3. $p$-value = 0.2112\n",
    "4. $p$-value > $\\alpha$, so faill to reject $H_0$. We have significant evidence that the reduced model is sufficient. "
   ]
  }
 ],
 "metadata": {
  "kernelspec": {
   "display_name": "R",
   "language": "R",
   "name": "ir"
  },
  "language_info": {
   "codemirror_mode": "r",
   "file_extension": ".r",
   "mimetype": "text/x-r-source",
   "name": "R",
   "pygments_lexer": "r",
   "version": "4.2.2"
  }
 },
 "nbformat": 4,
 "nbformat_minor": 5
}
